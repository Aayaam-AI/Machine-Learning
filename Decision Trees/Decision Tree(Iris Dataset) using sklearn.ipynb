{
 "cells": [
  {
   "cell_type": "code",
   "execution_count": 2,
   "metadata": {},
   "outputs": [],
   "source": [
    "import pandas as pd\n",
    "import numpy as np"
   ]
  },
  {
   "cell_type": "code",
   "execution_count": 32,
   "metadata": {},
   "outputs": [],
   "source": [
    "from sklearn.model_selection import train_test_split\n",
    "import pydotplus\n",
    "from sklearn.tree import export_graphviz\n",
    "from sklearn.tree import DecisionTreeClassifier\n",
    "import pydotplus\n",
    "data = np.genfromtxt(\"/Users/neelamagarwal/Decision Trees/iris.csv\" , delimiter = \",\")\n",
    "X = data[:,0:4]\n",
    "Y = data[:,4]\n",
    "alg = DecisionTreeClassifier()\n",
    "X_train,X_test,Y_train,Y_test = train_test_split(X,Y,random_state = 1)\n",
    "alg.fit(X_train,Y_train)\n",
    "dot_data = export_graphviz(alg , out_file = None )\n",
    "graph = pydotplus.graph_from_dot_data(dot_data)\n",
    "graph.write_pdf(\"Tree.pdf\")\n",
    "Y_pred = alg.predict(X_test)"
   ]
  }
 ],
 "metadata": {
  "kernelspec": {
   "display_name": "Python 3",
   "language": "python",
   "name": "python3"
  },
  "language_info": {
   "codemirror_mode": {
    "name": "ipython",
    "version": 3
   },
   "file_extension": ".py",
   "mimetype": "text/x-python",
   "name": "python",
   "nbconvert_exporter": "python",
   "pygments_lexer": "ipython3",
   "version": "3.7.3"
  }
 },
 "nbformat": 4,
 "nbformat_minor": 2
}
