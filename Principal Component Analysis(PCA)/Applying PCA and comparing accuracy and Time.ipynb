{
 "cells": [
  {
   "cell_type": "markdown",
   "metadata": {},
   "source": [
    "## We will apply PCA on a dataset and compare time and accuracy of logistic Regression before and after application"
   ]
  },
  {
   "cell_type": "code",
   "execution_count": 1,
   "metadata": {},
   "outputs": [],
   "source": [
    "from sklearn import datasets,linear_model,decomposition\n",
    "from time import time\n",
    "import numpy as np\n",
    "from sklearn.preprocessing import StandardScaler\n",
    "from sklearn.model_selection import train_test_split"
   ]
  },
  {
   "cell_type": "code",
   "execution_count": 2,
   "metadata": {},
   "outputs": [],
   "source": [
    "# Loading the Data\n",
    "data = datasets.load_breast_cancer()\n",
    "X = data.data"
   ]
  },
  {
   "cell_type": "code",
   "execution_count": 3,
   "metadata": {},
   "outputs": [],
   "source": [
    "# Scaling The Data\n",
    "sc = StandardScaler()\n",
    "X_std = sc.fit_transform(X)"
   ]
  },
  {
   "cell_type": "code",
   "execution_count": 4,
   "metadata": {},
   "outputs": [],
   "source": [
    "# Splitting the data\n",
    "x_train,x_test,y_train,y_test = train_test_split(X_std,data.target,random_state = 0)"
   ]
  },
  {
   "cell_type": "code",
   "execution_count": 5,
   "metadata": {},
   "outputs": [],
   "source": [
    "#Applying PCA on data\n",
    "pca = decomposition.PCA(n_components = 15)\n",
    "x_train_pca = pca.fit_transform(x_train)\n",
    "x_test_pca = pca.transform(x_test) # Don't apply fit_transform on testing data"
   ]
  },
  {
   "cell_type": "code",
   "execution_count": 6,
   "metadata": {},
   "outputs": [
    {
     "name": "stdout",
     "output_type": "stream",
     "text": [
      "0.006993293762207031\n",
      "0.965034965034965\n"
     ]
    }
   ],
   "source": [
    "# Applying Logistic Regression on original data\n",
    "lr = linear_model.LogisticRegression(solver = 'liblinear')\n",
    "start = time()\n",
    "lr.fit(x_train,y_train)\n",
    "end = time()\n",
    "print(end - start) #This will give time it takes\n",
    "print(lr.score(x_test,y_test)) # This will give score"
   ]
  },
  {
   "cell_type": "code",
   "execution_count": 7,
   "metadata": {},
   "outputs": [
    {
     "name": "stdout",
     "output_type": "stream",
     "text": [
      "0.0033998489379882812\n",
      "0.958041958041958\n"
     ]
    }
   ],
   "source": [
    "# Applying Logistic Regression on data after PCA\n",
    "lr = linear_model.LogisticRegression(solver = 'liblinear')\n",
    "start = time()\n",
    "lr.fit(x_train_pca,y_train)\n",
    "end = time()\n",
    "print(end - start) #This will give time it takes\n",
    "print(lr.score(x_test_pca,y_test)) # This will give score"
   ]
  },
  {
   "cell_type": "markdown",
   "metadata": {},
   "source": [
    "## As we can see above that although score is lowered due to removal of features, a significant speed efficiency is attained"
   ]
  }
 ],
 "metadata": {
  "kernelspec": {
   "display_name": "Python 3",
   "language": "python",
   "name": "python3"
  },
  "language_info": {
   "codemirror_mode": {
    "name": "ipython",
    "version": 3
   },
   "file_extension": ".py",
   "mimetype": "text/x-python",
   "name": "python",
   "nbconvert_exporter": "python",
   "pygments_lexer": "ipython3",
   "version": "3.7.3"
  }
 },
 "nbformat": 4,
 "nbformat_minor": 2
}
