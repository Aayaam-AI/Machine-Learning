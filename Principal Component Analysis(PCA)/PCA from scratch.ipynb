{
 "cells": [
  {
   "cell_type": "code",
   "execution_count": 3,
   "metadata": {},
   "outputs": [],
   "source": [
    "import numpy as np"
   ]
  },
  {
   "cell_type": "code",
   "execution_count": 7,
   "metadata": {},
   "outputs": [],
   "source": [
    "# Generate Covariance Matrix\n",
    "def cov_matrix(data):\n",
    "    Data = data.T #Take transpose of data to make features as row\n",
    "    cov = np.cov(Data) # numpy function for covariance matrix\n",
    "    print(\"Covariance Matrix :\",cov)\n",
    "    return cov"
   ]
  },
  {
   "cell_type": "code",
   "execution_count": 8,
   "metadata": {},
   "outputs": [],
   "source": [
    "# Gives eigen value and eigen vectors in descending order\n",
    "def eigen_val_vector_pair(data):\n",
    "    cov = cov_matrix(data)\n",
    "    eig_val,eig_vector = np.linalg.eig(cov) # This numpy function generate two matrix, eigen values matrix followed by eigen vector matrix\n",
    "    val_vector_pair = []\n",
    "    for i in range(len(eig_val)):\n",
    "        eig_vec = eig_vector[:,i]\n",
    "        val_vector_pair.append(eig_value[i],eig_vec) # creates tuple where first is value and second is vector\n",
    "    val_vector_pair.sort(reverse = True) # Sort tuples in descending order\n",
    "    print(\"Eigen Value and eigen vector pair :\",val_vector_pair)\n",
    "    return(val_vector_pair)"
   ]
  },
  {
   "cell_type": "markdown",
   "metadata": {},
   "source": [
    "## Now for selecting N features we can select top N eigenvectors sorted by eigenvalues"
   ]
  }
 ],
 "metadata": {
  "kernelspec": {
   "display_name": "Python 3",
   "language": "python",
   "name": "python3"
  },
  "language_info": {
   "codemirror_mode": {
    "name": "ipython",
    "version": 3
   },
   "file_extension": ".py",
   "mimetype": "text/x-python",
   "name": "python",
   "nbconvert_exporter": "python",
   "pygments_lexer": "ipython3",
   "version": "3.7.3"
  }
 },
 "nbformat": 4,
 "nbformat_minor": 2
}
