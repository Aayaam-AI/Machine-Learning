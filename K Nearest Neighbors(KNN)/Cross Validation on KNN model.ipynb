{
 "cells": [
  {
   "cell_type": "code",
   "execution_count": 1,
   "metadata": {},
   "outputs": [],
   "source": [
    "from sklearn.neighbors import KNeighborsClassifier\n",
    "from sklearn.model_selection import train_test_split , cross_val_score\n",
    "import numpy as np"
   ]
  },
  {
   "cell_type": "code",
   "execution_count": 2,
   "metadata": {},
   "outputs": [],
   "source": [
    "# Getting the Data\n",
    "data = np.genfromtxt(\"/Users/neelamagarwal/KNN/breast_cancer.csv\" , delimiter = \",\")\n",
    "X = data[:,0:data.shape[1]-1]\n",
    "Y = data[:,data.shape[1]-1]\n",
    "x_train,x_test,y_train,y_test = train_test_split(X,Y,random_state = 1)"
   ]
  },
  {
   "cell_type": "code",
   "execution_count": 3,
   "metadata": {},
   "outputs": [
    {
     "data": {
      "text/plain": [
       "KNeighborsClassifier(algorithm='auto', leaf_size=30, metric='minkowski',\n",
       "           metric_params=None, n_jobs=None, n_neighbors=5, p=2,\n",
       "           weights='uniform')"
      ]
     },
     "execution_count": 3,
     "metadata": {},
     "output_type": "execute_result"
    }
   ],
   "source": [
    "#Fitting Data in Model\n",
    "clf = KNeighborsClassifier()\n",
    "clf.fit(x_train,y_train)"
   ]
  },
  {
   "cell_type": "code",
   "execution_count": 4,
   "metadata": {},
   "outputs": [
    {
     "name": "stdout",
     "output_type": "stream",
     "text": [
      "1 0.9179201246926749\n",
      "3 0.9109439988972503\n",
      "5 0.9109271176996679\n",
      "7 0.9155891223616726\n",
      "9 0.9272936133889086\n",
      "11 0.9272769650354307\n",
      "13 0.9249128988415772\n",
      "15 0.9201847664538704\n",
      "17 0.9201847664538704\n",
      "19 0.9201847664538704\n",
      "21 0.9178207002600169\n",
      "23 0.9154896979290147\n",
      "25 0.9201517025910193\n"
     ]
    },
    {
     "data": {
      "text/plain": [
       "<Figure size 640x480 with 1 Axes>"
      ]
     },
     "metadata": {},
     "output_type": "display_data"
    }
   ],
   "source": [
    "# Performing Cross Validation\n",
    "import matplotlib.pyplot as plt\n",
    "x_axis = []\n",
    "y_axis = []\n",
    "for i in range(1,26,2):\n",
    "    clf = KNeighborsClassifier(n_neighbors = i)\n",
    "    score = cross_val_score(clf,x_train,y_train,cv = 3)\n",
    "    print(i,score.mean())\n",
    "    x_axis.append(i)\n",
    "    y_axis.append(score.mean())\n",
    "plt.plot(x_axis,y_axis)\n",
    "plt.grid()\n",
    "plt.show()"
   ]
  },
  {
   "cell_type": "markdown",
   "metadata": {},
   "source": [
    "## So we can see optimum value For K is \"9\" in our data"
   ]
  },
  {
   "cell_type": "code",
   "execution_count": 5,
   "metadata": {},
   "outputs": [
    {
     "data": {
      "text/plain": [
       "0.9230769230769231"
      ]
     },
     "execution_count": 5,
     "metadata": {},
     "output_type": "execute_result"
    }
   ],
   "source": [
    "# Applying optimal value of K\n",
    "clf = KNeighborsClassifier(n_neighbors = 9)\n",
    "clf.fit(x_train,y_train)\n",
    "clf.score(x_test,y_test)"
   ]
  }
 ],
 "metadata": {
  "kernelspec": {
   "display_name": "Python 3",
   "language": "python",
   "name": "python3"
  },
  "language_info": {
   "codemirror_mode": {
    "name": "ipython",
    "version": 3
   },
   "file_extension": ".py",
   "mimetype": "text/x-python",
   "name": "python",
   "nbconvert_exporter": "python",
   "pygments_lexer": "ipython3",
   "version": "3.7.3"
  }
 },
 "nbformat": 4,
 "nbformat_minor": 2
}
