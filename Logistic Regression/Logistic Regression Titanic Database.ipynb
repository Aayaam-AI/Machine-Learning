{
 "cells": [
  {
   "cell_type": "code",
   "execution_count": 2,
   "metadata": {},
   "outputs": [],
   "source": [
    "import numpy as np\n",
    "import pandas as pd"
   ]
  },
  {
   "cell_type": "code",
   "execution_count": 4,
   "metadata": {},
   "outputs": [],
   "source": [
    "Data = pd.read_csv(\"/Users/neelamagarwal/Downloads/0000000000002429_training_titanic_x_y_train.csv\")\n",
    "Data.drop(\"Name\", axis = 1 , inplace = True)\n",
    "Data.drop(\"Ticket\" , axis = 1 , inplace = True)\n",
    "Data.drop(\"Cabin\" , axis = 1 , inplace = True)\n",
    "Data.Age.fillna(Data.Age.mean() , inplace = True)\n",
    "def convert_sex(s):\n",
    "    if s == \"female\":\n",
    "        return 0\n",
    "    else:\n",
    "        return 1\n",
    "Data.Sex = Data.Sex.apply(convert_sex)    \n",
    "def convert_embarked(s):\n",
    "    if s == \"S\":\n",
    "        return 0\n",
    "    elif s == \"C\":\n",
    "        return 1\n",
    "    else:\n",
    "        return 2\n",
    "Data.Embarked = Data.Embarked.apply(convert_embarked)  \n",
    "np.savetxt(\"Clean Training data(titanic).csv\" , Data , delimiter = \",\")"
   ]
  },
  {
   "cell_type": "code",
   "execution_count": 5,
   "metadata": {},
   "outputs": [],
   "source": [
    "Data1 = pd.read_csv(\"/Users/neelamagarwal/Downloads/0000000000002429_test_titanic_x_test.csv\")\n",
    "Data1.drop(\"Name\", axis = 1 , inplace = True)\n",
    "Data1.drop(\"Ticket\" , axis = 1 , inplace = True)\n",
    "Data1.drop(\"Cabin\" , axis = 1 , inplace = True)\n",
    "Data1.Age.fillna(Data1.Age.mean() , inplace = True)\n",
    "def convert_sex(s):\n",
    "    if s == \"female\":\n",
    "        return 0\n",
    "    else:\n",
    "        return 1\n",
    "Data1.Sex = Data1.Sex.apply(convert_sex)    \n",
    "def convert_embarked(s):\n",
    "    if s == \"S\":\n",
    "        return 0\n",
    "    elif s == \"C\":\n",
    "        return 1\n",
    "    else:\n",
    "        return 2\n",
    "Data1.Embarked = Data1.Embarked.apply(convert_embarked)  \n",
    "np.savetxt(\"Clean Testing data(titanic).csv\" , Data1 , delimiter = \",\") "
   ]
  },
  {
   "cell_type": "code",
   "execution_count": 6,
   "metadata": {},
   "outputs": [],
   "source": [
    "train = np.genfromtxt(\"/Users/neelamagarwal/Clean Training data(titanic).csv\", delimiter = \",\")\n",
    "test = np.genfromtxt(\"/Users/neelamagarwal/Clean Testing data(titanic).csv\", delimiter = \",\")"
   ]
  },
  {
   "cell_type": "code",
   "execution_count": 9,
   "metadata": {},
   "outputs": [],
   "source": [
    "x_train = train[:,0:7]\n",
    "y_train = train[:,7]\n",
    "x_test = test[:,0:7]"
   ]
  },
  {
   "cell_type": "code",
   "execution_count": 30,
   "metadata": {},
   "outputs": [],
   "source": [
    "from sklearn.linear_model import LogisticRegression\n",
    "alg = LogisticRegression(max_iter = 1000 , solver = 'liblinear')\n",
    "alg.fit(x_train,y_train)\n",
    "y_pred = alg.predict(x_test)\n",
    "np.savetxt(\"predictions.csv\" , y_pred)"
   ]
  }
 ],
 "metadata": {
  "kernelspec": {
   "display_name": "Python 3",
   "language": "python",
   "name": "python3"
  },
  "language_info": {
   "codemirror_mode": {
    "name": "ipython",
    "version": 3
   },
   "file_extension": ".py",
   "mimetype": "text/x-python",
   "name": "python",
   "nbconvert_exporter": "python",
   "pygments_lexer": "ipython3",
   "version": "3.7.3"
  }
 },
 "nbformat": 4,
 "nbformat_minor": 2
}
