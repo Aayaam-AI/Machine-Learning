{
 "cells": [
  {
   "cell_type": "markdown",
   "metadata": {},
   "source": [
    "# MNIST Dataset contain data for images of digits 0 to 9"
   ]
  },
  {
   "cell_type": "code",
   "execution_count": 3,
   "metadata": {},
   "outputs": [],
   "source": [
    "import tensorflow as tf"
   ]
  },
  {
   "cell_type": "code",
   "execution_count": 4,
   "metadata": {},
   "outputs": [],
   "source": [
    "# Don't pay attention to this\n",
    "# This is to keep kernel from dying\n",
    "import os\n",
    "os.environ['KMP_DUPLICATE_LIB_OK']='True'"
   ]
  },
  {
   "cell_type": "code",
   "execution_count": 5,
   "metadata": {},
   "outputs": [],
   "source": [
    "from tensorflow.examples.tutorials.mnist import input_data"
   ]
  },
  {
   "cell_type": "code",
   "execution_count": 26,
   "metadata": {},
   "outputs": [
    {
     "name": "stdout",
     "output_type": "stream",
     "text": [
      "Extracting MNIST_data/train-images-idx3-ubyte.gz\n",
      "Extracting MNIST_data/train-labels-idx1-ubyte.gz\n",
      "Extracting MNIST_data/t10k-images-idx3-ubyte.gz\n",
      "Extracting MNIST_data/t10k-labels-idx1-ubyte.gz\n"
     ]
    }
   ],
   "source": [
    "mnist = input_data.read_data_sets(\"MNIST_data/\", one_hot = True)"
   ]
  },
  {
   "cell_type": "code",
   "execution_count": 7,
   "metadata": {},
   "outputs": [
    {
     "data": {
      "text/plain": [
       "(55000, 784)"
      ]
     },
     "execution_count": 7,
     "metadata": {},
     "output_type": "execute_result"
    }
   ],
   "source": [
    "mnist.train.images.shape"
   ]
  },
  {
   "cell_type": "code",
   "execution_count": 8,
   "metadata": {},
   "outputs": [
    {
     "data": {
      "text/plain": [
       "(55000, 10)"
      ]
     },
     "execution_count": 8,
     "metadata": {},
     "output_type": "execute_result"
    }
   ],
   "source": [
    "mnist.train.labels.shape # There are 10 classes which are one hot encoded for whole training data"
   ]
  },
  {
   "cell_type": "code",
   "execution_count": 9,
   "metadata": {},
   "outputs": [
    {
     "data": {
      "text/plain": [
       "array([0., 0., 0., 0., 0., 0., 0., 1., 0., 0.])"
      ]
     },
     "execution_count": 9,
     "metadata": {},
     "output_type": "execute_result"
    }
   ],
   "source": [
    "mnist.train.labels[0]"
   ]
  },
  {
   "cell_type": "code",
   "execution_count": 10,
   "metadata": {},
   "outputs": [
    {
     "data": {
      "text/plain": [
       "(10000, 784)"
      ]
     },
     "execution_count": 10,
     "metadata": {},
     "output_type": "execute_result"
    }
   ],
   "source": [
    "mnist.test.images.shape"
   ]
  },
  {
   "cell_type": "code",
   "execution_count": 11,
   "metadata": {},
   "outputs": [],
   "source": [
    "import numpy as np\n",
    "import matplotlib.pyplot as plt"
   ]
  },
  {
   "cell_type": "code",
   "execution_count": 12,
   "metadata": {},
   "outputs": [
    {
     "data": {
      "image/png": "[encoded data removed]",
      "text/plain": [
       "<Figure size 432x288 with 1 Axes>"
      ]
     },
     "metadata": {
      "needs_background": "light"
     },
     "output_type": "display_data"
    }
   ],
   "source": [
    "# Lets see first image of training data\n",
    "first_image = mnist.train.images[0]\n",
    "first_image = np.array(first_image , dtype = 'float')\n",
    "first_image = first_image.reshape((28,28))\n",
    "plt.imshow(first_image)\n",
    "plt.show()"
   ]
  },
  {
   "cell_type": "code",
   "execution_count": 72,
   "metadata": {},
   "outputs": [],
   "source": [
    "# Initialise weights and biases\n",
    "# No. of units in each layer :- \n",
    "n_input = 784\n",
    "n_hidden_1 = 256  # We can choose no. of units for hidden layer by ourself\n",
    "n_hidden_2 = 256\n",
    "n_classes = 10\n",
    "\n",
    "# We will create dictionary for weights and biases\n",
    "weights = {\n",
    "    'h1': tf.Variable(tf.random_normal([n_input,n_hidden_1])),\n",
    "    'h2': tf.Variable(tf.random_normal([n_hidden_1,n_hidden_2])),\n",
    "    'out': tf.Variable(tf.random_normal([n_hidden_2,n_classes]))\n",
    "}\n",
    "\n",
    "biases = {\n",
    "    'h1': tf.Variable(tf.random_normal([n_hidden_1])),\n",
    "    'h2': tf.Variable(tf.random_normal([n_hidden_2])),\n",
    "    'out': tf.Variable(tf.random_normal([n_classes]))\n",
    "}"
   ]
  },
  {
   "cell_type": "code",
   "execution_count": 73,
   "metadata": {},
   "outputs": [],
   "source": [
    "# Now make forward propogation function\n",
    "def forward_propogation(x,weights,biases):\n",
    "    in_layer1 = tf.add(tf.matmul(x,weights['h1']),biases['h1'])\n",
    "    out_layer1 = tf.nn.relu(in_layer1) # 'relu' is inbuilt activation function tensorflow neural network\n",
    "    \n",
    "    in_layer2 = tf.add(tf.matmul(out_layer1,weights['h2']),biases['h2']) #matmul - matrix multiplication\n",
    "    out_layer2 = tf.nn.relu(in_layer2)\n",
    "    \n",
    "    # Here we are not applying any activation function on output\n",
    "    output = tf.add(tf.matmul(out_layer2,weights['out']),biases['out']) \n",
    "    return output"
   ]
  },
  {
   "cell_type": "code",
   "execution_count": 74,
   "metadata": {},
   "outputs": [],
   "source": [
    "# create placeholder for input and output\n",
    "x = tf.placeholder('float',[None,n_input])\n",
    "y = tf.placeholder(tf.int32,[None,n_classes])\n",
    "pred = forward_propogation(x,weights,biases)"
   ]
  },
  {
   "cell_type": "code",
   "execution_count": 75,
   "metadata": {},
   "outputs": [],
   "source": [
    "# We will find cost by using cross entropy function which is same as the one we used in logistic regression\n",
    "# We will take mean for cost of all prediction\n",
    "cost = tf.reduce_mean(tf.nn.softmax_cross_entropy_with_logits(logits = pred,labels = y))"
   ]
  },
  {
   "cell_type": "code",
   "execution_count": 76,
   "metadata": {},
   "outputs": [],
   "source": [
    "#Using inbuilt tensorflow optimizer for weights and biases\n",
    "optimizer = tf.train.AdamOptimizer(learning_rate = 0.01)\n",
    "optimize = optimizer.minimize(cost)"
   ]
  },
  {
   "cell_type": "code",
   "execution_count": 77,
   "metadata": {},
   "outputs": [],
   "source": [
    "# Now lets start a session\n",
    "sess = tf.Session()\n",
    "sess.run(tf.global_variables_initializer())"
   ]
  },
  {
   "cell_type": "code",
   "execution_count": 69,
   "metadata": {},
   "outputs": [
    {
     "name": "stdout",
     "output_type": "stream",
     "text": [
      "1672.7778\n",
      "912.61316\n",
      "703.35925\n",
      "583.37396\n",
      "478.97223\n",
      "343.04437\n",
      "245.08797\n",
      "197.7256\n",
      "182.44992\n",
      "180.07837\n",
      "173.07693\n",
      "156.07428\n",
      "136.91257\n",
      "123.222984\n",
      "115.30141\n",
      "109.64542\n",
      "104.07335\n",
      "98.06573\n",
      "92.05794\n",
      "86.44747\n",
      "81.39095\n",
      "77.02778\n",
      "73.21842\n",
      "69.96321\n",
      "67.23349\n",
      "65.04114\n",
      "63.322086\n",
      "61.801422\n",
      "60.201977\n",
      "58.32801\n"
     ]
    }
   ],
   "source": [
    "#after each iteration cost will decrease\n",
    "for iter in range(30):\n",
    "    c,_ = sess.run([cost,optimize],feed_dict = {x:mnist.train.images,y:mnist.train.labels})\n",
    "    print(c)"
   ]
  },
  {
   "cell_type": "code",
   "execution_count": 70,
   "metadata": {},
   "outputs": [],
   "source": [
    "predictions = tf.argmax(pred,1) # Find index of column with maximum value for each row\n",
    "true_labels = tf.argmax(y,1)  # Find actual labels\n",
    "correct_predictions = tf.equal(predictions,true_labels) # True value corresponding to equal match\n",
    "pred_eval,correct_pred = sess.run([predictions,correct_predictions],feed_dict = {x:mnist.test.images,y:mnist.test.labels})\n"
   ]
  },
  {
   "cell_type": "code",
   "execution_count": 71,
   "metadata": {},
   "outputs": [
    {
     "data": {
      "text/plain": [
       "88.87"
      ]
     },
     "execution_count": 71,
     "metadata": {},
     "output_type": "execute_result"
    }
   ],
   "source": [
    "# percentage of prediction accuracy\n",
    "(correct_pred.sum()/10000) * 100 "
   ]
  },
  {
   "cell_type": "markdown",
   "metadata": {},
   "source": [
    "### So this is our current accuracy is 88.87%"
   ]
  },
  {
   "cell_type": "markdown",
   "metadata": {},
   "source": [
    "## Now instead of supplying whole training data in each iteration of optimizer lets send data in small batches. This is batch gradient descent."
   ]
  },
  {
   "cell_type": "code",
   "execution_count": 78,
   "metadata": {},
   "outputs": [
    {
     "name": "stdout",
     "output_type": "stream",
     "text": [
      "24954.501386642456\n",
      "4528.775805815646\n",
      "2428.025088553497\n",
      "1636.9526819525252\n",
      "1327.5684174113967\n",
      "1172.0743447719387\n",
      "1069.9434544774206\n",
      "889.4856751825387\n",
      "766.8055818831805\n",
      "664.7230994256987\n",
      "670.380492141031\n",
      "598.0254120226209\n",
      "519.3761736238463\n",
      "471.5182979688079\n",
      "479.4317365480034\n",
      "440.28444354447066\n",
      "356.6282222299319\n",
      "357.5140780153414\n",
      "286.0917191410079\n",
      "257.84451768144413\n",
      "185.2461861547199\n",
      "221.40443380412012\n",
      "184.63599720801687\n",
      "157.32484594585296\n",
      "182.34191820784906\n",
      "141.41765187843657\n",
      "106.58610978650266\n",
      "108.74878994207819\n",
      "106.4104471992614\n",
      "79.79975043678587\n"
     ]
    }
   ],
   "source": [
    "# Taking batch size of 100 for 55000 training data points\n",
    "batch_size = 100\n",
    "for iter in range(30):\n",
    "    num_batches = int(mnist.train.num_examples/batch_size) # num_examples give no. of data points in train/test\n",
    "    total_cost = 0\n",
    "    for j in range(num_batches):\n",
    "        x_batch,y_batch = mnist.train.next_batch(batch_size)\n",
    "        c,_ = sess.run([cost,optimize],feed_dict = {x : x_batch,y : y_batch})\n",
    "        total_cost += c\n",
    "    print(total_cost)"
   ]
  },
  {
   "cell_type": "code",
   "execution_count": 79,
   "metadata": {},
   "outputs": [],
   "source": [
    "predictions = tf.argmax(pred,1) # Find index of column with maximum value for each row\n",
    "true_labels = tf.argmax(y,1)  # Find actual labels\n",
    "correct_predictions = tf.equal(predictions,true_labels) # True value corresponding to equal match\n",
    "pred_eval,correct_pred = sess.run([predictions,correct_predictions],feed_dict = {x:mnist.test.images,y:mnist.test.labels})"
   ]
  },
  {
   "cell_type": "code",
   "execution_count": 80,
   "metadata": {},
   "outputs": [
    {
     "data": {
      "text/plain": [
       "96.04"
      ]
     },
     "execution_count": 80,
     "metadata": {},
     "output_type": "execute_result"
    }
   ],
   "source": [
    "# percentage of prediction accuracy\n",
    "(correct_pred.sum()/10000) * 100 "
   ]
  },
  {
   "cell_type": "markdown",
   "metadata": {},
   "source": [
    "### So our accuracy is 96.04% which is a great improvement"
   ]
  }
 ],
 "metadata": {
  "kernelspec": {
   "display_name": "Python 3",
   "language": "python",
   "name": "python3"
  },
  "language_info": {
   "codemirror_mode": {
    "name": "ipython",
    "version": 3
   },
   "file_extension": ".py",
   "mimetype": "text/x-python",
   "name": "python",
   "nbconvert_exporter": "python",
   "pygments_lexer": "ipython3",
   "version": "3.7.3"
  }
 },
 "nbformat": 4,
 "nbformat_minor": 2
}
