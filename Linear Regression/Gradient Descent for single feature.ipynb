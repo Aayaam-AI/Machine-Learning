{
 "cells": [
  {
   "cell_type": "code",
   "execution_count": 16,
   "metadata": {},
   "outputs": [],
   "source": [
    "import numpy as np\n",
    "import pandas as pd"
   ]
  },
  {
   "cell_type": "code",
   "execution_count": 17,
   "metadata": {},
   "outputs": [],
   "source": [
    "def stepGradient(points,m,c,learning_rate):\n",
    "    m1 = 0\n",
    "    c1 = 0\n",
    "    M = len(points)\n",
    "    for i in range(M):\n",
    "        x = points[i,0]\n",
    "        y = points[i,1]\n",
    "        m1 += (-2/M)*(y - m*x - c)*x\n",
    "        c1 += (-2/M)*(y - m*x - c)\n",
    "    m_new = m - learning_rate*m1\n",
    "    c_new = c - learning_rate*c1\n",
    "    return m_new,c_new"
   ]
  },
  {
   "cell_type": "code",
   "execution_count": 43,
   "metadata": {},
   "outputs": [],
   "source": [
    "def costFunction(points,m,c):\n",
    "    M = len(points)\n",
    "    cost = 0\n",
    "    for i in range(M):\n",
    "        x = points[i,0]\n",
    "        y = points[i,1]\n",
    "        cost += (1/M)*((y - m*x - c)**2)\n",
    "    print(\"cost : \",cost)    "
   ]
  },
  {
   "cell_type": "code",
   "execution_count": 30,
   "metadata": {},
   "outputs": [],
   "source": [
    "def gd(points,learning_rate,iterations):\n",
    "    m = 0\n",
    "    c = 0\n",
    "    for i in range(iterations):\n",
    "        m,c = stepGradient(points,m,c,learning_rate)\n",
    "        costFunction(points,m,c)\n",
    "    return m,c    "
   ]
  },
  {
   "cell_type": "code",
   "execution_count": 49,
   "metadata": {},
   "outputs": [],
   "source": [
    "def run(filepath):\n",
    "    data = np.genfromtxt(filepath , delimiter = \",\") # import data here\n",
    "    learning_rate = 0.0001\n",
    "    iterations = 100\n",
    "    m,c = gd(data,learning_rate,iterations)\n",
    "    print(\"m , c \",m,c)"
   ]
  }
 ],
 "metadata": {
  "kernelspec": {
   "display_name": "Python 3",
   "language": "python",
   "name": "python3"
  },
  "language_info": {
   "codemirror_mode": {
    "name": "ipython",
    "version": 3
   },
   "file_extension": ".py",
   "mimetype": "text/x-python",
   "name": "python",
   "nbconvert_exporter": "python",
   "pygments_lexer": "ipython3",
   "version": "3.7.3"
  }
 },
 "nbformat": 4,
 "nbformat_minor": 2
}
