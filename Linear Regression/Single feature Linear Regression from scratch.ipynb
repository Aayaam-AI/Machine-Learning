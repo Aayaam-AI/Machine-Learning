{
 "cells": [
  {
   "cell_type": "code",
   "execution_count": 2,
   "metadata": {},
   "outputs": [],
   "source": [
    "import numpy as np"
   ]
  },
  {
   "cell_type": "code",
   "execution_count": 4,
   "metadata": {},
   "outputs": [],
   "source": [
    "def fit(x,y): #import training data\n",
    "    num = (x*y).mean() - x.mean()*y.mean()\n",
    "    den = (x*x).mean() - (x.mean() ** 2)\n",
    "    m = num/den \n",
    "    c = y.mean() - m*(x.mean())\n",
    "    return m,c"
   ]
  },
  {
   "cell_type": "code",
   "execution_count": 7,
   "metadata": {},
   "outputs": [],
   "source": [
    "def predict(x,m,c):  # x is testing data\n",
    "    y = m*x + c\n",
    "    return y"
   ]
  },
  {
   "cell_type": "code",
   "execution_count": 9,
   "metadata": {},
   "outputs": [],
   "source": [
    "def score(y_pred,y_true):\n",
    "    u = ((y_true - y_pred)**2).sum()\n",
    "    v = ((y_true - y_true.mean())**2).sum()\n",
    "    return (1 - u/v)"
   ]
  },
  {
   "cell_type": "code",
   "execution_count": 14,
   "metadata": {},
   "outputs": [],
   "source": [
    "def run(filepath_training , filepath_testing): \n",
    "    train = np.genfromtxt(filepath_training , delimiter = \",\")\n",
    "    k = len(train , axis = 1)\n",
    "    x_train = train[:,0:k]\n",
    "    y_train = train[:,k]\n",
    "    m,c = fit(x_train , y_train)\n",
    "    test = np.genfromtxt(filepath_testing , delimiter = \",\")\n",
    "    x_test = test[:,0:k]\n",
    "    y_pred = predict(x_test,m,c)\n",
    "    print(y_pred)\n",
    "    print(\"score : \" , score(y_pred,y_train))"
   ]
  }
 ],
 "metadata": {
  "kernelspec": {
   "display_name": "Python 3",
   "language": "python",
   "name": "python3"
  },
  "language_info": {
   "codemirror_mode": {
    "name": "ipython",
    "version": 3
   },
   "file_extension": ".py",
   "mimetype": "text/x-python",
   "name": "python",
   "nbconvert_exporter": "python",
   "pygments_lexer": "ipython3",
   "version": "3.7.3"
  }
 },
 "nbformat": 4,
 "nbformat_minor": 2
}
