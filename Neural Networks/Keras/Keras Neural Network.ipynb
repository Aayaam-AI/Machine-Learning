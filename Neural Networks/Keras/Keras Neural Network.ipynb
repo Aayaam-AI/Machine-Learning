{
 "cells": [
  {
   "cell_type": "code",
   "execution_count": 1,
   "metadata": {},
   "outputs": [
    {
     "name": "stderr",
     "output_type": "stream",
     "text": [
      "Using TensorFlow backend.\n"
     ]
    }
   ],
   "source": [
    "from keras.models import Sequential\n",
    "from keras.layers import Dense"
   ]
  },
  {
   "cell_type": "code",
   "execution_count": 2,
   "metadata": {},
   "outputs": [],
   "source": [
    "# Don't pay attention to this\n",
    "# This is to keep kernel from dying\n",
    "import os\n",
    "os.environ['KMP_DUPLICATE_LIB_OK']='True'"
   ]
  },
  {
   "cell_type": "code",
   "execution_count": 3,
   "metadata": {},
   "outputs": [],
   "source": [
    "# Creating a model\n",
    "model = Sequential()"
   ]
  },
  {
   "cell_type": "code",
   "execution_count": 4,
   "metadata": {},
   "outputs": [
    {
     "name": "stdout",
     "output_type": "stream",
     "text": [
      "WARNING:tensorflow:From /anaconda3/lib/python3.7/site-packages/tensorflow/python/framework/op_def_library.py:263: colocate_with (from tensorflow.python.framework.ops) is deprecated and will be removed in a future version.\n",
      "Instructions for updating:\n",
      "Colocations handled automatically by placer.\n"
     ]
    }
   ],
   "source": [
    "# We will work with breast cancer dataset which has 30 features\n",
    "# Input layer will have 30 units\n",
    "# It is necessary to pass input dimension for first layer\n",
    "# Hidden layer 1 will have 32 units (our choice)\n",
    "# Hidden layer 2 will have 16 units (our choice)\n",
    "# Since it is binary classification it will have one unit for output layer\n",
    "\n",
    "layer1 = Dense(units = 32, activation = 'relu',input_dim = 30)\n",
    "model.add(layer1)\n",
    "model.add(Dense(units = 16 , activation = 'relu'))\n",
    "model.add(Dense(units = 1 , activation = 'sigmoid'))"
   ]
  },
  {
   "cell_type": "code",
   "execution_count": 5,
   "metadata": {},
   "outputs": [],
   "source": [
    "# Now we will compile the model\n",
    "# We will pass optimizer,cost function,metrics\n",
    "model.compile(optimizer = 'adam' , loss = 'binary_crossentropy' , metrics = ['accuracy'])\n",
    "# we will use categorical_crossentropy for multi class problem"
   ]
  },
  {
   "cell_type": "code",
   "execution_count": 6,
   "metadata": {},
   "outputs": [],
   "source": [
    "from sklearn import datasets\n",
    "cancer = datasets.load_breast_cancer()\n",
    "from sklearn.model_selection import train_test_split\n",
    "x_train,x_test,y_train,y_test = train_test_split(cancer.data,cancer.target,random_state = 0)\n",
    "from sklearn.preprocessing import StandardScaler\n",
    "sc = StandardScaler()\n",
    "x_train = sc.fit_transform(x_train)\n",
    "x_test = sc.transform(x_test)"
   ]
  },
  {
   "cell_type": "code",
   "execution_count": 7,
   "metadata": {},
   "outputs": [
    {
     "name": "stdout",
     "output_type": "stream",
     "text": [
      "WARNING:tensorflow:From /anaconda3/lib/python3.7/site-packages/tensorflow/python/ops/math_ops.py:3066: to_int32 (from tensorflow.python.ops.math_ops) is deprecated and will be removed in a future version.\n",
      "Instructions for updating:\n",
      "Use tf.cast instead.\n",
      "Train on 426 samples, validate on 143 samples\n",
      "Epoch 1/30\n",
      "426/426 [==============================] - 2s 4ms/step - loss: 0.6547 - acc: 0.5235 - val_loss: 0.5365 - val_acc: 0.7413\n",
      "Epoch 2/30\n",
      "426/426 [==============================] - 0s 94us/step - loss: 0.5108 - acc: 0.8075 - val_loss: 0.4367 - val_acc: 0.8671\n",
      "Epoch 3/30\n",
      "426/426 [==============================] - 0s 93us/step - loss: 0.4128 - acc: 0.9131 - val_loss: 0.3653 - val_acc: 0.8811\n",
      "Epoch 4/30\n",
      "426/426 [==============================] - 0s 94us/step - loss: 0.3362 - acc: 0.9437 - val_loss: 0.3021 - val_acc: 0.9091\n",
      "Epoch 5/30\n",
      "426/426 [==============================] - 0s 92us/step - loss: 0.2733 - acc: 0.9484 - val_loss: 0.2467 - val_acc: 0.9161\n",
      "Epoch 6/30\n",
      "426/426 [==============================] - 0s 89us/step - loss: 0.2198 - acc: 0.9507 - val_loss: 0.2079 - val_acc: 0.9301\n",
      "Epoch 7/30\n",
      "426/426 [==============================] - 0s 100us/step - loss: 0.1809 - acc: 0.9507 - val_loss: 0.1823 - val_acc: 0.9301\n",
      "Epoch 8/30\n",
      "426/426 [==============================] - 0s 99us/step - loss: 0.1543 - acc: 0.9624 - val_loss: 0.1640 - val_acc: 0.9301\n",
      "Epoch 9/30\n",
      "426/426 [==============================] - 0s 92us/step - loss: 0.1333 - acc: 0.9648 - val_loss: 0.1515 - val_acc: 0.9301\n",
      "Epoch 10/30\n",
      "426/426 [==============================] - 0s 90us/step - loss: 0.1187 - acc: 0.9671 - val_loss: 0.1413 - val_acc: 0.9301\n",
      "Epoch 11/30\n",
      "426/426 [==============================] - 0s 95us/step - loss: 0.1076 - acc: 0.9695 - val_loss: 0.1322 - val_acc: 0.9441\n",
      "Epoch 12/30\n",
      "426/426 [==============================] - 0s 85us/step - loss: 0.0982 - acc: 0.9789 - val_loss: 0.1259 - val_acc: 0.9371\n",
      "Epoch 13/30\n",
      "426/426 [==============================] - 0s 103us/step - loss: 0.0912 - acc: 0.9812 - val_loss: 0.1194 - val_acc: 0.9371\n",
      "Epoch 14/30\n",
      "426/426 [==============================] - 0s 104us/step - loss: 0.0854 - acc: 0.9836 - val_loss: 0.1136 - val_acc: 0.9441\n",
      "Epoch 15/30\n",
      "426/426 [==============================] - 0s 96us/step - loss: 0.0805 - acc: 0.9836 - val_loss: 0.1087 - val_acc: 0.9371\n",
      "Epoch 16/30\n",
      "426/426 [==============================] - 0s 93us/step - loss: 0.0762 - acc: 0.9859 - val_loss: 0.1051 - val_acc: 0.9371\n",
      "Epoch 17/30\n",
      "426/426 [==============================] - 0s 90us/step - loss: 0.0727 - acc: 0.9859 - val_loss: 0.1010 - val_acc: 0.9371\n",
      "Epoch 18/30\n",
      "426/426 [==============================] - 0s 92us/step - loss: 0.0693 - acc: 0.9859 - val_loss: 0.0985 - val_acc: 0.9371\n",
      "Epoch 19/30\n",
      "426/426 [==============================] - 0s 93us/step - loss: 0.0664 - acc: 0.9859 - val_loss: 0.0963 - val_acc: 0.9371\n",
      "Epoch 20/30\n",
      "426/426 [==============================] - 0s 90us/step - loss: 0.0644 - acc: 0.9859 - val_loss: 0.0942 - val_acc: 0.9371\n",
      "Epoch 21/30\n",
      "426/426 [==============================] - 0s 94us/step - loss: 0.0624 - acc: 0.9859 - val_loss: 0.0915 - val_acc: 0.9441\n",
      "Epoch 22/30\n",
      "426/426 [==============================] - 0s 92us/step - loss: 0.0604 - acc: 0.9859 - val_loss: 0.0904 - val_acc: 0.9441\n",
      "Epoch 23/30\n",
      "426/426 [==============================] - 0s 93us/step - loss: 0.0588 - acc: 0.9859 - val_loss: 0.0890 - val_acc: 0.9510\n",
      "Epoch 24/30\n",
      "426/426 [==============================] - 0s 83us/step - loss: 0.0569 - acc: 0.9906 - val_loss: 0.0874 - val_acc: 0.9510\n",
      "Epoch 25/30\n",
      "426/426 [==============================] - 0s 86us/step - loss: 0.0554 - acc: 0.9906 - val_loss: 0.0851 - val_acc: 0.9441\n",
      "Epoch 26/30\n",
      "426/426 [==============================] - 0s 95us/step - loss: 0.0539 - acc: 0.9906 - val_loss: 0.0839 - val_acc: 0.9580\n",
      "Epoch 27/30\n",
      "426/426 [==============================] - 0s 86us/step - loss: 0.0526 - acc: 0.9906 - val_loss: 0.0826 - val_acc: 0.9650\n",
      "Epoch 28/30\n",
      "426/426 [==============================] - 0s 100us/step - loss: 0.0513 - acc: 0.9906 - val_loss: 0.0818 - val_acc: 0.9650\n",
      "Epoch 29/30\n",
      "426/426 [==============================] - 0s 87us/step - loss: 0.0501 - acc: 0.9906 - val_loss: 0.0800 - val_acc: 0.9650\n",
      "Epoch 30/30\n",
      "426/426 [==============================] - 0s 94us/step - loss: 0.0490 - acc: 0.9906 - val_loss: 0.0793 - val_acc: 0.9650\n"
     ]
    },
    {
     "data": {
      "text/plain": [
       "<keras.callbacks.History at 0xb44490f28>"
      ]
     },
     "execution_count": 7,
     "metadata": {},
     "output_type": "execute_result"
    }
   ],
   "source": [
    "# Fitting data in our model\n",
    "# epochs is no. of iterations\n",
    "# we are optimizing in batches of input data\n",
    "# validation data will give testing score also but our model will be trained on training data\n",
    "model.fit(x_train,y_train,epochs = 30,batch_size = 50,validation_data = (x_test,y_test))"
   ]
  },
  {
   "cell_type": "markdown",
   "metadata": {},
   "source": [
    "## So our training accuracy is 99.06 and testing accuracy is 96.50"
   ]
  },
  {
   "cell_type": "code",
   "execution_count": 10,
   "metadata": {},
   "outputs": [
    {
     "name": "stdout",
     "output_type": "stream",
     "text": [
      "143/143 [==============================] - 0s 77us/step\n"
     ]
    },
    {
     "data": {
      "text/plain": [
       "[0.07933667135405374, 0.965034965034965]"
      ]
     },
     "execution_count": 10,
     "metadata": {},
     "output_type": "execute_result"
    }
   ],
   "source": [
    "predictions = model.predict(x_test)\n",
    "score = model.evaluate(x_test,y_test)\n",
    "# Score is a tuple whose first value is final cost and second value accuracy on testing data\n",
    "score"
   ]
  }
 ],
 "metadata": {
  "kernelspec": {
   "display_name": "Python 3",
   "language": "python",
   "name": "python3"
  },
  "language_info": {
   "codemirror_mode": {
    "name": "ipython",
    "version": 3
   },
   "file_extension": ".py",
   "mimetype": "text/x-python",
   "name": "python",
   "nbconvert_exporter": "python",
   "pygments_lexer": "ipython3",
   "version": "3.7.3"
  }
 },
 "nbformat": 4,
 "nbformat_minor": 2
}
