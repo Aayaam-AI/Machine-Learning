{
 "cells": [
  {
   "cell_type": "code",
   "execution_count": 1,
   "metadata": {},
   "outputs": [],
   "source": [
    "import numpy as np"
   ]
  },
  {
   "cell_type": "markdown",
   "metadata": {},
   "source": [
    "## We will apply it on XOR Gate containing one hidden layer"
   ]
  },
  {
   "cell_type": "code",
   "execution_count": 2,
   "metadata": {},
   "outputs": [
    {
     "data": {
      "text/plain": [
       "((4, 2), (4, 1))"
      ]
     },
     "execution_count": 2,
     "metadata": {},
     "output_type": "execute_result"
    }
   ],
   "source": [
    "X = np.array([[0,0],[0,1],[1,0],[1,1]])\n",
    "Y = np.array([[0,1,1,0]]).T\n",
    "X.shape,Y.shape"
   ]
  },
  {
   "cell_type": "code",
   "execution_count": 3,
   "metadata": {},
   "outputs": [],
   "source": [
    "# Useing sigmoid function as activation function.\n",
    "def sig(z):\n",
    "    return 1/(1 + np.exp(-z))"
   ]
  },
  {
   "cell_type": "code",
   "execution_count": 4,
   "metadata": {},
   "outputs": [],
   "source": [
    "# Derivative of sigmoid function\n",
    "def derivativeSig(z):\n",
    "    return sig(z) * (1 - sig(z))"
   ]
  },
  {
   "cell_type": "code",
   "execution_count": 5,
   "metadata": {},
   "outputs": [],
   "source": [
    "# For hidden layer\n",
    "wh = 2*np.random.random((2,2)) - 1\n",
    "bh = 2*np.random.random((1,2)) - 1\n",
    "# For output layer\n",
    "wo = 2*np.random.random((2,1)) - 1\n",
    "bo = 2*np.random.random((1,1)) - 1"
   ]
  },
  {
   "cell_type": "code",
   "execution_count": 9,
   "metadata": {},
   "outputs": [],
   "source": [
    "# Learning Rate\n",
    "lr = 0.1"
   ]
  },
  {
   "cell_type": "code",
   "execution_count": 13,
   "metadata": {},
   "outputs": [
    {
     "data": {
      "text/plain": [
       "(array([[0.02548251],\n",
       "        [0.97821797],\n",
       "        [0.97762607],\n",
       "        [0.02306854]]), array([[ 5.3206061 , -6.21117516],\n",
       "        [-5.60829144,  6.22710707]]), array([[-2.95247496, -3.52553565]]), array([[8.86839155],\n",
       "        [8.68104504]]), array([[-4.33222539]]))"
      ]
     },
     "execution_count": 13,
     "metadata": {},
     "output_type": "execute_result"
    }
   ],
   "source": [
    "for iter in range(10000):\n",
    "    # First doing forward propogation \n",
    "    output0 = X \n",
    "    inputForHiddenLayer = np.dot(output0,wh) + bh\n",
    "    outputHidden = sig(inputForHiddenLayer)\n",
    "    inputForOutputLayer = np.dot(outputHidden,wo) + bo\n",
    "    output = sig(inputForOutputLayer)\n",
    "\n",
    "    # Backpropogating from output to hidden layer\n",
    "    first_term_output_layer = output - Y\n",
    "    second_term_output_layer = derivativeSig(inputForOutputLayer)\n",
    "    first_two_output = first_term_output_layer * second_term_output_layer\n",
    "\n",
    "    changes_output = np.dot(outputHidden.T,first_two_output)\n",
    "    changes_output_bias = np.sum(first_two_output , axis = 0,keepdims = True) #Keepdims is used to make it vector form\n",
    "\n",
    "    wo = wo - lr * changes_output\n",
    "    bo = bo - lr * changes_output_bias\n",
    "\n",
    "    # Backpropogating from hidden to input layer\n",
    "    first_term_hidden_layer = np.dot(first_two_output,wo.T)\n",
    "    second_term_hidden_layer = derivativeSig(inputForHiddenLayer)\n",
    "    first_two_hidden = first_term_hidden_layer * second_term_hidden_layer\n",
    "\n",
    "    changes_hidden = np.dot(output0.T,first_two_hidden)\n",
    "    changes_hidden_bias = np.sum(first_two_hidden , axis = 0,keepdims = True) #Keepdims is used to make it vector form\n",
    "\n",
    "    wh = wh - lr * changes_hidden\n",
    "    bh = bh - lr * changes_hidden_bias\n",
    "    \n",
    "output0 = X \n",
    "inputForHiddenLayer = np.dot(output0,wh) + bh\n",
    "outputHidden = sig(inputForHiddenLayer)\n",
    "inputForOutputLayer = np.dot(outputHidden,wo) + bo\n",
    "output = sig(inputForOutputLayer)\n",
    "\n",
    "output,wh,bh,wo,bo"
   ]
  },
  {
   "cell_type": "code",
   "execution_count": null,
   "metadata": {},
   "outputs": [],
   "source": []
  }
 ],
 "metadata": {
  "kernelspec": {
   "display_name": "Python 3",
   "language": "python",
   "name": "python3"
  },
  "language_info": {
   "codemirror_mode": {
    "name": "ipython",
    "version": 3
   },
   "file_extension": ".py",
   "mimetype": "text/x-python",
   "name": "python",
   "nbconvert_exporter": "python",
   "pygments_lexer": "ipython3",
   "version": "3.7.3"
  }
 },
 "nbformat": 4,
 "nbformat_minor": 2
}
