{
 "cells": [
  {
   "cell_type": "code",
   "execution_count": 1,
   "metadata": {},
   "outputs": [],
   "source": [
    "from pandas import read_csv\n",
    "import numpy as np"
   ]
  },
  {
   "cell_type": "code",
   "execution_count": 2,
   "metadata": {},
   "outputs": [],
   "source": [
    "# Don't pay attention to this\n",
    "# This is to keep kernel from dying\n",
    "import os\n",
    "os.environ['KMP_DUPLICATE_LIB_OK']='True'"
   ]
  },
  {
   "cell_type": "code",
   "execution_count": 3,
   "metadata": {},
   "outputs": [],
   "source": [
    "df = read_csv('AirPassengers.csv',usecols = [1])"
   ]
  },
  {
   "cell_type": "code",
   "execution_count": 4,
   "metadata": {},
   "outputs": [
    {
     "data": {
      "text/html": [
       "<div>\n",
       "<style scoped>\n",
       "    .dataframe tbody tr th:only-of-type {\n",
       "        vertical-align: middle;\n",
       "    }\n",
       "\n",
       "    .dataframe tbody tr th {\n",
       "        vertical-align: top;\n",
       "    }\n",
       "\n",
       "    .dataframe thead th {\n",
       "        text-align: right;\n",
       "    }\n",
       "</style>\n",
       "<table border=\"1\" class=\"dataframe\">\n",
       "  <thead>\n",
       "    <tr style=\"text-align: right;\">\n",
       "      <th></th>\n",
       "      <th>Passengers</th>\n",
       "    </tr>\n",
       "  </thead>\n",
       "  <tbody>\n",
       "    <tr>\n",
       "      <th>count</th>\n",
       "      <td>144.000000</td>\n",
       "    </tr>\n",
       "    <tr>\n",
       "      <th>mean</th>\n",
       "      <td>280.298611</td>\n",
       "    </tr>\n",
       "    <tr>\n",
       "      <th>std</th>\n",
       "      <td>119.966317</td>\n",
       "    </tr>\n",
       "    <tr>\n",
       "      <th>min</th>\n",
       "      <td>104.000000</td>\n",
       "    </tr>\n",
       "    <tr>\n",
       "      <th>25%</th>\n",
       "      <td>180.000000</td>\n",
       "    </tr>\n",
       "    <tr>\n",
       "      <th>50%</th>\n",
       "      <td>265.500000</td>\n",
       "    </tr>\n",
       "    <tr>\n",
       "      <th>75%</th>\n",
       "      <td>360.500000</td>\n",
       "    </tr>\n",
       "    <tr>\n",
       "      <th>max</th>\n",
       "      <td>622.000000</td>\n",
       "    </tr>\n",
       "  </tbody>\n",
       "</table>\n",
       "</div>"
      ],
      "text/plain": [
       "       Passengers\n",
       "count  144.000000\n",
       "mean   280.298611\n",
       "std    119.966317\n",
       "min    104.000000\n",
       "25%    180.000000\n",
       "50%    265.500000\n",
       "75%    360.500000\n",
       "max    622.000000"
      ]
     },
     "execution_count": 4,
     "metadata": {},
     "output_type": "execute_result"
    }
   ],
   "source": [
    "df.describe()"
   ]
  },
  {
   "cell_type": "code",
   "execution_count": 5,
   "metadata": {},
   "outputs": [
    {
     "data": {
      "text/plain": [
       "(144, 1)"
      ]
     },
     "execution_count": 5,
     "metadata": {},
     "output_type": "execute_result"
    }
   ],
   "source": [
    "values = df.values.astype('float32')\n",
    "values.shape"
   ]
  },
  {
   "cell_type": "code",
   "execution_count": 6,
   "metadata": {},
   "outputs": [],
   "source": [
    "train_size = int(values.shape[0] * 0.67)\n",
    "test_size = values.shape[0] - train_size\n",
    "train = values[0:train_size]\n",
    "test = values[train_size:]"
   ]
  },
  {
   "cell_type": "code",
   "execution_count": 7,
   "metadata": {},
   "outputs": [],
   "source": [
    "from sklearn.preprocessing import MinMaxScaler\n",
    "scaler = MinMaxScaler(feature_range = (0,1))\n",
    "train = scaler.fit_transform(train)\n",
    "test = scaler.transform(test)"
   ]
  },
  {
   "cell_type": "code",
   "execution_count": 8,
   "metadata": {},
   "outputs": [],
   "source": [
    "def create_dataset(data,k):\n",
    "    dataX,dataY = [],[]\n",
    "    for i in range(data.shape[0] - k):\n",
    "        x = data[i:i+k,0]\n",
    "        y = data[i+k,0]\n",
    "        dataX.append(x)\n",
    "        dataY.append(y)\n",
    "    return np.array(dataX),np.array(dataY)"
   ]
  },
  {
   "cell_type": "code",
   "execution_count": 9,
   "metadata": {},
   "outputs": [],
   "source": [
    "look_back = 12\n",
    "trainX,trainY = create_dataset(train,look_back)\n",
    "testX,testY = create_dataset(test,look_back)"
   ]
  },
  {
   "cell_type": "code",
   "execution_count": 10,
   "metadata": {},
   "outputs": [],
   "source": [
    "# Input Data format in RNN Model\n",
    "trainX = np.reshape(trainX,(trainX.shape[0],trainX.shape[1],1))\n",
    "testX = np.reshape(testX,(testX.shape[0],testX.shape[1],1))"
   ]
  },
  {
   "cell_type": "code",
   "execution_count": 11,
   "metadata": {},
   "outputs": [
    {
     "name": "stderr",
     "output_type": "stream",
     "text": [
      "Using TensorFlow backend.\n"
     ]
    }
   ],
   "source": [
    "from keras.models import Sequential\n",
    "from keras.layers import SimpleRNN,Dense"
   ]
  },
  {
   "cell_type": "code",
   "execution_count": 12,
   "metadata": {},
   "outputs": [
    {
     "name": "stdout",
     "output_type": "stream",
     "text": [
      "WARNING:tensorflow:From /anaconda3/lib/python3.7/site-packages/tensorflow/python/framework/op_def_library.py:263: colocate_with (from tensorflow.python.framework.ops) is deprecated and will be removed in a future version.\n",
      "Instructions for updating:\n",
      "Colocations handled automatically by placer.\n",
      "WARNING:tensorflow:From /anaconda3/lib/python3.7/site-packages/tensorflow/python/ops/math_ops.py:3066: to_int32 (from tensorflow.python.ops.math_ops) is deprecated and will be removed in a future version.\n",
      "Instructions for updating:\n",
      "Use tf.cast instead.\n",
      "Epoch 1/20\n",
      "84/84 [==============================] - 2s 21ms/step - loss: 0.0472\n",
      "Epoch 2/20\n",
      "84/84 [==============================] - 1s 8ms/step - loss: 0.0227\n",
      "Epoch 3/20\n",
      "84/84 [==============================] - 1s 8ms/step - loss: 0.0174\n",
      "Epoch 4/20\n",
      "84/84 [==============================] - 1s 8ms/step - loss: 0.0160\n",
      "Epoch 5/20\n",
      "84/84 [==============================] - 1s 8ms/step - loss: 0.0150\n",
      "Epoch 6/20\n",
      "84/84 [==============================] - 1s 8ms/step - loss: 0.0139\n",
      "Epoch 7/20\n",
      "84/84 [==============================] - 1s 8ms/step - loss: 0.0133\n",
      "Epoch 8/20\n",
      "84/84 [==============================] - 1s 8ms/step - loss: 0.0115\n",
      "Epoch 9/20\n",
      "84/84 [==============================] - 1s 8ms/step - loss: 0.0113\n",
      "Epoch 10/20\n",
      "84/84 [==============================] - 1s 8ms/step - loss: 0.0106\n",
      "Epoch 11/20\n",
      "84/84 [==============================] - 1s 8ms/step - loss: 0.0102\n",
      "Epoch 12/20\n",
      "84/84 [==============================] - 1s 8ms/step - loss: 0.0095\n",
      "Epoch 13/20\n",
      "84/84 [==============================] - 1s 8ms/step - loss: 0.0094\n",
      "Epoch 14/20\n",
      "84/84 [==============================] - 1s 8ms/step - loss: 0.0090\n",
      "Epoch 15/20\n",
      "84/84 [==============================] - 1s 8ms/step - loss: 0.0088\n",
      "Epoch 16/20\n",
      "84/84 [==============================] - 1s 8ms/step - loss: 0.0091\n",
      "Epoch 17/20\n",
      "84/84 [==============================] - 1s 8ms/step - loss: 0.0084\n",
      "Epoch 18/20\n",
      "84/84 [==============================] - 1s 8ms/step - loss: 0.0084\n",
      "Epoch 19/20\n",
      "84/84 [==============================] - 1s 7ms/step - loss: 0.0079\n",
      "Epoch 20/20\n",
      "84/84 [==============================] - 1s 7ms/step - loss: 0.0078\n"
     ]
    },
    {
     "data": {
      "text/plain": [
       "<keras.callbacks.History at 0x1a43f18ba8>"
      ]
     },
     "execution_count": 12,
     "metadata": {},
     "output_type": "execute_result"
    }
   ],
   "source": [
    "model = Sequential()\n",
    "model.add(SimpleRNN(4,input_shape = (look_back,1)))\n",
    "model.add(Dense(1))\n",
    "model.compile(loss = 'mean_squared_error',optimizer = 'adam')\n",
    "model.fit(trainX,trainY,epochs = 20,batch_size = 1)"
   ]
  },
  {
   "cell_type": "code",
   "execution_count": 13,
   "metadata": {},
   "outputs": [
    {
     "data": {
      "text/plain": [
       "((36,), (36,))"
      ]
     },
     "execution_count": 13,
     "metadata": {},
     "output_type": "execute_result"
    }
   ],
   "source": [
    "testPredict = model.predict(testX)\n",
    "testPredict = scaler.inverse_transform(testPredict).ravel()\n",
    "\n",
    "trainPredict = model.predict(trainX)\n",
    "trainPredict = scaler.inverse_transform(trainPredict).ravel()\n",
    "\n",
    "trainTrue = scaler.inverse_transform([trainY]).ravel()\n",
    "testTrue = scaler.inverse_transform([testY]).ravel()\n",
    "\n",
    "testPredict.shape,testTrue.shape"
   ]
  },
  {
   "cell_type": "code",
   "execution_count": 15,
   "metadata": {},
   "outputs": [
    {
     "data": {
      "image/png": "[encoded data removed]",
      "text/plain": [
       "<Figure size 432x288 with 1 Axes>"
      ]
     },
     "metadata": {
      "needs_background": "light"
     },
     "output_type": "display_data"
    }
   ],
   "source": [
    "import matplotlib.pyplot as plt\n",
    "plt.plot(trainTrue , c = 'g')\n",
    "plt.plot(trainPredict , c = 'b')\n",
    "plt.show()"
   ]
  },
  {
   "cell_type": "code",
   "execution_count": 18,
   "metadata": {},
   "outputs": [
    {
     "data": {
      "image/png": "[encoded data removed]",
      "text/plain": [
       "<Figure size 432x288 with 1 Axes>"
      ]
     },
     "metadata": {
      "needs_background": "light"
     },
     "output_type": "display_data"
    }
   ],
   "source": [
    "combinedPredict = np.concatenate((trainPredict,testPredict))\n",
    "combinedTrue = np.concatenate((trainTrue,testTrue))\n",
    "plt.plot(combinedTrue , c = 'g')\n",
    "plt.plot(combinedPredict , c = 'b')\n",
    "plt.show()"
   ]
  },
  {
   "cell_type": "code",
   "execution_count": null,
   "metadata": {},
   "outputs": [],
   "source": []
  }
 ],
 "metadata": {
  "kernelspec": {
   "display_name": "Python 3",
   "language": "python",
   "name": "python3"
  },
  "language_info": {
   "codemirror_mode": {
    "name": "ipython",
    "version": 3
   },
   "file_extension": ".py",
   "mimetype": "text/x-python",
   "name": "python",
   "nbconvert_exporter": "python",
   "pygments_lexer": "ipython3",
   "version": "3.7.3"
  }
 },
 "nbformat": 4,
 "nbformat_minor": 2
}
